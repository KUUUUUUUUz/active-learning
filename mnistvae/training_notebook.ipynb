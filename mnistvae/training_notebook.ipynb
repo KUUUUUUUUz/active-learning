{
 "cells": [
  {
   "cell_type": "code",
   "execution_count": 1,
   "metadata": {},
   "outputs": [
    {
     "name": "stdout",
     "output_type": "stream",
     "text": [
      "/home/rmhl/repos/stargraph\n"
     ]
    }
   ],
   "source": [
    "%load_ext autoreload\n",
    "%autoreload 2\n",
    "\n",
    "%cd /home/rmhl/repos/stargraph"
   ]
  },
  {
   "cell_type": "code",
   "execution_count": 1,
   "metadata": {},
   "outputs": [
    {
     "name": "stdout",
     "output_type": "stream",
     "text": [
      "/Users/perper/Documents/active-learning/mnistvae\n"
     ]
    }
   ],
   "source": [
    "%load_ext autoreload\n",
    "%autoreload 2\n",
    "%cd /Users/perper/Documents/active-learning/mnistvae"
   ]
  },
  {
   "cell_type": "code",
   "execution_count": 88,
   "metadata": {},
   "outputs": [
    {
     "name": "stdout",
     "output_type": "stream",
     "text": [
      "Requirement already satisfied: torch in /Users/perper/miniconda3/envs/equinoxvae/lib/python3.10/site-packages (2.1.0)\n",
      "Requirement already satisfied: torchvision in /Users/perper/miniconda3/envs/equinoxvae/lib/python3.10/site-packages (0.16.0)\n",
      "Requirement already satisfied: torchaudio in /Users/perper/miniconda3/envs/equinoxvae/lib/python3.10/site-packages (2.1.0)\n",
      "Requirement already satisfied: filelock in /Users/perper/miniconda3/envs/equinoxvae/lib/python3.10/site-packages (from torch) (3.13.1)\n",
      "Requirement already satisfied: typing-extensions in /Users/perper/miniconda3/envs/equinoxvae/lib/python3.10/site-packages (from torch) (4.8.0)\n",
      "Requirement already satisfied: sympy in /Users/perper/miniconda3/envs/equinoxvae/lib/python3.10/site-packages (from torch) (1.12)\n",
      "Requirement already satisfied: networkx in /Users/perper/miniconda3/envs/equinoxvae/lib/python3.10/site-packages (from torch) (3.2.1)\n",
      "Requirement already satisfied: jinja2 in /Users/perper/miniconda3/envs/equinoxvae/lib/python3.10/site-packages (from torch) (3.1.2)\n",
      "Requirement already satisfied: fsspec in /Users/perper/miniconda3/envs/equinoxvae/lib/python3.10/site-packages (from torch) (2023.10.0)\n",
      "Requirement already satisfied: numpy in /Users/perper/miniconda3/envs/equinoxvae/lib/python3.10/site-packages (from torchvision) (1.26.1)\n",
      "Requirement already satisfied: requests in /Users/perper/miniconda3/envs/equinoxvae/lib/python3.10/site-packages (from torchvision) (2.31.0)\n",
      "Requirement already satisfied: pillow!=8.3.*,>=5.3.0 in /Users/perper/miniconda3/envs/equinoxvae/lib/python3.10/site-packages (from torchvision) (10.1.0)\n",
      "Requirement already satisfied: MarkupSafe>=2.0 in /Users/perper/miniconda3/envs/equinoxvae/lib/python3.10/site-packages (from jinja2->torch) (2.1.3)\n",
      "Requirement already satisfied: charset-normalizer<4,>=2 in /Users/perper/miniconda3/envs/equinoxvae/lib/python3.10/site-packages (from requests->torchvision) (3.3.2)\n",
      "Requirement already satisfied: idna<4,>=2.5 in /Users/perper/miniconda3/envs/equinoxvae/lib/python3.10/site-packages (from requests->torchvision) (3.4)\n",
      "Requirement already satisfied: urllib3<3,>=1.21.1 in /Users/perper/miniconda3/envs/equinoxvae/lib/python3.10/site-packages (from requests->torchvision) (2.0.7)\n",
      "Requirement already satisfied: certifi>=2017.4.17 in /Users/perper/miniconda3/envs/equinoxvae/lib/python3.10/site-packages (from requests->torchvision) (2023.7.22)\n",
      "Requirement already satisfied: mpmath>=0.19 in /Users/perper/miniconda3/envs/equinoxvae/lib/python3.10/site-packages (from sympy->torch) (1.3.0)\n",
      "Note: you may need to restart the kernel to use updated packages.\n"
     ]
    }
   ],
   "source": [
    "pip install torch torchvision torchaudio"
   ]
  },
  {
   "cell_type": "code",
   "execution_count": 2,
   "metadata": {},
   "outputs": [
    {
     "ename": "RuntimeError",
     "evalue": "jaxlib version 0.4.20 is newer than and incompatible with jax version 0.4.13. Please update your jax and/or jaxlib packages.",
     "output_type": "error",
     "traceback": [
      "\u001b[0;31m---------------------------------------------------------------------------\u001b[0m",
      "\u001b[0;31mRuntimeError\u001b[0m                              Traceback (most recent call last)",
      "Cell \u001b[0;32mIn[2], line 10\u001b[0m\n\u001b[1;32m      7\u001b[0m os\u001b[38;5;241m.\u001b[39menviron[\u001b[38;5;124m\"\u001b[39m\u001b[38;5;124mPATH\u001b[39m\u001b[38;5;124m\"\u001b[39m] \u001b[38;5;241m=\u001b[39m \u001b[38;5;124mf\u001b[39m\u001b[38;5;124m\"\u001b[39m\u001b[38;5;132;01m{\u001b[39;00mp\u001b[38;5;132;01m}\u001b[39;00m\u001b[38;5;124m:/usr/local/cuda/bin\u001b[39m\u001b[38;5;124m\"\u001b[39m\n\u001b[1;32m      9\u001b[0m \u001b[38;5;28;01mfrom\u001b[39;00m \u001b[38;5;21;01mfunctools\u001b[39;00m \u001b[38;5;28;01mimport\u001b[39;00m partial\n\u001b[0;32m---> 10\u001b[0m \u001b[38;5;28;01mimport\u001b[39;00m \u001b[38;5;21;01mjax\u001b[39;00m\n\u001b[1;32m     11\u001b[0m \u001b[38;5;28;01mimport\u001b[39;00m \u001b[38;5;21;01mjax\u001b[39;00m\u001b[38;5;21;01m.\u001b[39;00m\u001b[38;5;21;01mnumpy\u001b[39;00m \u001b[38;5;28;01mas\u001b[39;00m \u001b[38;5;21;01mjnp\u001b[39;00m\n\u001b[1;32m     12\u001b[0m \u001b[38;5;28;01mfrom\u001b[39;00m \u001b[38;5;21;01mjaxtyping\u001b[39;00m \u001b[38;5;28;01mimport\u001b[39;00m PyTree\n",
      "File \u001b[0;32m~/miniconda3/envs/equinoxvae/lib/python3.10/site-packages/jax/__init__.py:35\u001b[0m\n\u001b[1;32m     30\u001b[0m \u001b[38;5;28;01mdel\u001b[39;00m _cloud_tpu_init\n\u001b[1;32m     32\u001b[0m \u001b[38;5;66;03m# Confusingly there are two things named \"config\": the module and the class.\u001b[39;00m\n\u001b[1;32m     33\u001b[0m \u001b[38;5;66;03m# We want the exported object to be the class, so we first import the module\u001b[39;00m\n\u001b[1;32m     34\u001b[0m \u001b[38;5;66;03m# to make sure a later import doesn't overwrite the class.\u001b[39;00m\n\u001b[0;32m---> 35\u001b[0m \u001b[38;5;28;01mfrom\u001b[39;00m \u001b[38;5;21;01mjax\u001b[39;00m \u001b[38;5;28;01mimport\u001b[39;00m config \u001b[38;5;28;01mas\u001b[39;00m _config_module\n\u001b[1;32m     36\u001b[0m \u001b[38;5;28;01mdel\u001b[39;00m _config_module\n\u001b[1;32m     38\u001b[0m \u001b[38;5;66;03m# Force early import, allowing use of `jax.core` after importing `jax`.\u001b[39;00m\n",
      "File \u001b[0;32m~/miniconda3/envs/equinoxvae/lib/python3.10/site-packages/jax/config.py:17\u001b[0m\n\u001b[1;32m      1\u001b[0m \u001b[38;5;66;03m# Copyright 2018 The JAX Authors.\u001b[39;00m\n\u001b[1;32m      2\u001b[0m \u001b[38;5;66;03m#\u001b[39;00m\n\u001b[1;32m      3\u001b[0m \u001b[38;5;66;03m# Licensed under the Apache License, Version 2.0 (the \"License\");\u001b[39;00m\n\u001b[0;32m   (...)\u001b[0m\n\u001b[1;32m     14\u001b[0m \n\u001b[1;32m     15\u001b[0m \u001b[38;5;66;03m# TODO(phawkins): fix users of this alias and delete this file.\u001b[39;00m\n\u001b[0;32m---> 17\u001b[0m \u001b[38;5;28;01mfrom\u001b[39;00m \u001b[38;5;21;01mjax\u001b[39;00m\u001b[38;5;21;01m.\u001b[39;00m\u001b[38;5;21;01m_src\u001b[39;00m\u001b[38;5;21;01m.\u001b[39;00m\u001b[38;5;21;01mconfig\u001b[39;00m \u001b[38;5;28;01mimport\u001b[39;00m config  \u001b[38;5;66;03m# noqa: F401\u001b[39;00m\n",
      "File \u001b[0;32m~/miniconda3/envs/equinoxvae/lib/python3.10/site-packages/jax/_src/config.py:24\u001b[0m\n\u001b[1;32m     21\u001b[0m \u001b[38;5;28;01mimport\u001b[39;00m \u001b[38;5;21;01mthreading\u001b[39;00m\n\u001b[1;32m     22\u001b[0m \u001b[38;5;28;01mfrom\u001b[39;00m \u001b[38;5;21;01mtyping\u001b[39;00m \u001b[38;5;28;01mimport\u001b[39;00m Any, List, Callable, Hashable, NamedTuple, Iterator, Optional\n\u001b[0;32m---> 24\u001b[0m \u001b[38;5;28;01mfrom\u001b[39;00m \u001b[38;5;21;01mjax\u001b[39;00m\u001b[38;5;21;01m.\u001b[39;00m\u001b[38;5;21;01m_src\u001b[39;00m \u001b[38;5;28;01mimport\u001b[39;00m lib\n\u001b[1;32m     25\u001b[0m \u001b[38;5;28;01mfrom\u001b[39;00m \u001b[38;5;21;01mjax\u001b[39;00m\u001b[38;5;21;01m.\u001b[39;00m\u001b[38;5;21;01m_src\u001b[39;00m\u001b[38;5;21;01m.\u001b[39;00m\u001b[38;5;21;01mlib\u001b[39;00m \u001b[38;5;28;01mimport\u001b[39;00m jax_jit\n\u001b[1;32m     26\u001b[0m \u001b[38;5;28;01mfrom\u001b[39;00m \u001b[38;5;21;01mjax\u001b[39;00m\u001b[38;5;21;01m.\u001b[39;00m\u001b[38;5;21;01m_src\u001b[39;00m\u001b[38;5;21;01m.\u001b[39;00m\u001b[38;5;21;01mlib\u001b[39;00m \u001b[38;5;28;01mimport\u001b[39;00m transfer_guard_lib\n",
      "File \u001b[0;32m~/miniconda3/envs/equinoxvae/lib/python3.10/site-packages/jax/_src/lib/__init__.py:73\u001b[0m\n\u001b[1;32m     70\u001b[0m   \u001b[38;5;28;01mreturn\u001b[39;00m _jaxlib_version\n\u001b[1;32m     72\u001b[0m version_str \u001b[38;5;241m=\u001b[39m jaxlib\u001b[38;5;241m.\u001b[39mversion\u001b[38;5;241m.\u001b[39m__version__\n\u001b[0;32m---> 73\u001b[0m version \u001b[38;5;241m=\u001b[39m \u001b[43mcheck_jaxlib_version\u001b[49m\u001b[43m(\u001b[49m\n\u001b[1;32m     74\u001b[0m \u001b[43m  \u001b[49m\u001b[43mjax_version\u001b[49m\u001b[38;5;241;43m=\u001b[39;49m\u001b[43mjax\u001b[49m\u001b[38;5;241;43m.\u001b[39;49m\u001b[43mversion\u001b[49m\u001b[38;5;241;43m.\u001b[39;49m\u001b[43m__version__\u001b[49m\u001b[43m,\u001b[49m\n\u001b[1;32m     75\u001b[0m \u001b[43m  \u001b[49m\u001b[43mjaxlib_version\u001b[49m\u001b[38;5;241;43m=\u001b[39;49m\u001b[43mjaxlib\u001b[49m\u001b[38;5;241;43m.\u001b[39;49m\u001b[43mversion\u001b[49m\u001b[38;5;241;43m.\u001b[39;49m\u001b[43m__version__\u001b[49m\u001b[43m,\u001b[49m\n\u001b[1;32m     76\u001b[0m \u001b[43m  \u001b[49m\u001b[43mminimum_jaxlib_version\u001b[49m\u001b[38;5;241;43m=\u001b[39;49m\u001b[43mjax\u001b[49m\u001b[38;5;241;43m.\u001b[39;49m\u001b[43mversion\u001b[49m\u001b[38;5;241;43m.\u001b[39;49m\u001b[43m_minimum_jaxlib_version\u001b[49m\u001b[43m)\u001b[49m\n\u001b[1;32m     80\u001b[0m \u001b[38;5;66;03m# Before importing any C compiled modules from jaxlib, first import the CPU\u001b[39;00m\n\u001b[1;32m     81\u001b[0m \u001b[38;5;66;03m# feature guard module to verify that jaxlib was compiled in a way that only\u001b[39;00m\n\u001b[1;32m     82\u001b[0m \u001b[38;5;66;03m# uses instructions that are present on this machine.\u001b[39;00m\n\u001b[1;32m     83\u001b[0m \u001b[38;5;28;01mimport\u001b[39;00m \u001b[38;5;21;01mjaxlib\u001b[39;00m\u001b[38;5;21;01m.\u001b[39;00m\u001b[38;5;21;01mcpu_feature_guard\u001b[39;00m \u001b[38;5;28;01mas\u001b[39;00m \u001b[38;5;21;01mcpu_feature_guard\u001b[39;00m\n",
      "File \u001b[0;32m~/miniconda3/envs/equinoxvae/lib/python3.10/site-packages/jax/_src/lib/__init__.py:68\u001b[0m, in \u001b[0;36mcheck_jaxlib_version\u001b[0;34m(jax_version, jaxlib_version, minimum_jaxlib_version)\u001b[0m\n\u001b[1;32m     64\u001b[0m \u001b[38;5;28;01mif\u001b[39;00m _jaxlib_version \u001b[38;5;241m>\u001b[39m _jax_version:\n\u001b[1;32m     65\u001b[0m   msg \u001b[38;5;241m=\u001b[39m (\u001b[38;5;124mf\u001b[39m\u001b[38;5;124m'\u001b[39m\u001b[38;5;124mjaxlib version \u001b[39m\u001b[38;5;132;01m{\u001b[39;00mjaxlib_version\u001b[38;5;132;01m}\u001b[39;00m\u001b[38;5;124m is newer than and \u001b[39m\u001b[38;5;124m'\u001b[39m\n\u001b[1;32m     66\u001b[0m          \u001b[38;5;124mf\u001b[39m\u001b[38;5;124m'\u001b[39m\u001b[38;5;124mincompatible with jax version \u001b[39m\u001b[38;5;132;01m{\u001b[39;00mjax_version\u001b[38;5;132;01m}\u001b[39;00m\u001b[38;5;124m. Please \u001b[39m\u001b[38;5;124m'\u001b[39m\n\u001b[1;32m     67\u001b[0m          \u001b[38;5;124m'\u001b[39m\u001b[38;5;124mupdate your jax and/or jaxlib packages.\u001b[39m\u001b[38;5;124m'\u001b[39m)\n\u001b[0;32m---> 68\u001b[0m   \u001b[38;5;28;01mraise\u001b[39;00m \u001b[38;5;167;01mRuntimeError\u001b[39;00m(msg)\n\u001b[1;32m     70\u001b[0m \u001b[38;5;28;01mreturn\u001b[39;00m _jaxlib_version\n",
      "\u001b[0;31mRuntimeError\u001b[0m: jaxlib version 0.4.20 is newer than and incompatible with jax version 0.4.13. Please update your jax and/or jaxlib packages."
     ]
    }
   ],
   "source": [
    "import os\n",
    "\n",
    "os.environ[\"XLA_PYTHON_CLIENT_PREALLOCATE\"] = \"false\"\n",
    "os.environ[\"CUDA_VISIBLE_DEVICES\"] = \"9\"\n",
    "os.environ[\"TF_USE_NVLINK_FOR_PARALLEL_COMPILATION\"] = \"0\"\n",
    "p = os.environ[\"PATH\"]\n",
    "os.environ[\"PATH\"] = f\"{p}:/usr/local/cuda/bin\"\n",
    "\n",
    "from functools import partial\n",
    "import jax\n",
    "import jax.numpy as jnp\n",
    "from jaxtyping import PyTree\n",
    "from torch.utils.data import DataLoader\n",
    "import equinox as eqx\n",
    "import matplotlib.pyplot as plt\n",
    "import distrax as dsx\n",
    "import optax\n",
    "import seaborn as sns\n",
    "\n",
    "sns.set()\n",
    "\n",
    "#from data import SpokenMNISTMultimodalDataset\n",
    "from model.image_vae import ImageVAE, ImageVAEOutput\n",
    "from model.loss import ELBOLossOutput, get_evidence_lower_bound\n",
    "from model.visualization import visualize_reconstructions\n",
    "\n",
    "\n",
    "BATCH_SIZE = 32"
   ]
  },
  {
   "cell_type": "code",
   "execution_count": 90,
   "metadata": {},
   "outputs": [
    {
     "name": "stdout",
     "output_type": "stream",
     "text": [
      "Requirement already satisfied: tensorflow-datasets in /Users/perper/miniconda3/envs/equinoxvae/lib/python3.10/site-packages (4.9.3)\n",
      "Requirement already satisfied: absl-py in /Users/perper/miniconda3/envs/equinoxvae/lib/python3.10/site-packages (from tensorflow-datasets) (1.4.0)\n",
      "Requirement already satisfied: array-record in /Users/perper/miniconda3/envs/equinoxvae/lib/python3.10/site-packages (from tensorflow-datasets) (0.4.1)\n",
      "Requirement already satisfied: click in /Users/perper/miniconda3/envs/equinoxvae/lib/python3.10/site-packages (from tensorflow-datasets) (8.1.7)\n",
      "Requirement already satisfied: dm-tree in /Users/perper/miniconda3/envs/equinoxvae/lib/python3.10/site-packages (from tensorflow-datasets) (0.1.8)\n",
      "Requirement already satisfied: etils>=0.9.0 in /Users/perper/miniconda3/envs/equinoxvae/lib/python3.10/site-packages (from etils[enp,epath,etree]>=0.9.0->tensorflow-datasets) (1.5.2)\n",
      "Requirement already satisfied: numpy in /Users/perper/miniconda3/envs/equinoxvae/lib/python3.10/site-packages (from tensorflow-datasets) (1.26.1)\n",
      "Requirement already satisfied: promise in /Users/perper/miniconda3/envs/equinoxvae/lib/python3.10/site-packages (from tensorflow-datasets) (2.3)\n",
      "Requirement already satisfied: protobuf>=3.20 in /Users/perper/miniconda3/envs/equinoxvae/lib/python3.10/site-packages (from tensorflow-datasets) (3.20.3)\n",
      "Requirement already satisfied: psutil in /Users/perper/miniconda3/envs/equinoxvae/lib/python3.10/site-packages (from tensorflow-datasets) (5.9.5)\n",
      "Requirement already satisfied: requests>=2.19.0 in /Users/perper/miniconda3/envs/equinoxvae/lib/python3.10/site-packages (from tensorflow-datasets) (2.31.0)\n",
      "Requirement already satisfied: tensorflow-metadata in /Users/perper/miniconda3/envs/equinoxvae/lib/python3.10/site-packages (from tensorflow-datasets) (1.14.0)\n",
      "Requirement already satisfied: termcolor in /Users/perper/miniconda3/envs/equinoxvae/lib/python3.10/site-packages (from tensorflow-datasets) (2.3.0)\n",
      "Requirement already satisfied: toml in /Users/perper/miniconda3/envs/equinoxvae/lib/python3.10/site-packages (from tensorflow-datasets) (0.10.2)\n",
      "Requirement already satisfied: tqdm in /Users/perper/miniconda3/envs/equinoxvae/lib/python3.10/site-packages (from tensorflow-datasets) (4.66.1)\n",
      "Requirement already satisfied: wrapt in /Users/perper/miniconda3/envs/equinoxvae/lib/python3.10/site-packages (from tensorflow-datasets) (1.14.1)\n",
      "Requirement already satisfied: fsspec in /Users/perper/miniconda3/envs/equinoxvae/lib/python3.10/site-packages (from etils[enp,epath,etree]>=0.9.0->tensorflow-datasets) (2023.10.0)\n",
      "Requirement already satisfied: importlib_resources in /Users/perper/miniconda3/envs/equinoxvae/lib/python3.10/site-packages (from etils[enp,epath,etree]>=0.9.0->tensorflow-datasets) (6.1.1)\n",
      "Requirement already satisfied: typing_extensions in /Users/perper/miniconda3/envs/equinoxvae/lib/python3.10/site-packages (from etils[enp,epath,etree]>=0.9.0->tensorflow-datasets) (4.8.0)\n",
      "Requirement already satisfied: zipp in /Users/perper/miniconda3/envs/equinoxvae/lib/python3.10/site-packages (from etils[enp,epath,etree]>=0.9.0->tensorflow-datasets) (3.17.0)\n",
      "Requirement already satisfied: charset-normalizer<4,>=2 in /Users/perper/miniconda3/envs/equinoxvae/lib/python3.10/site-packages (from requests>=2.19.0->tensorflow-datasets) (3.3.2)\n",
      "Requirement already satisfied: idna<4,>=2.5 in /Users/perper/miniconda3/envs/equinoxvae/lib/python3.10/site-packages (from requests>=2.19.0->tensorflow-datasets) (3.4)\n",
      "Requirement already satisfied: urllib3<3,>=1.21.1 in /Users/perper/miniconda3/envs/equinoxvae/lib/python3.10/site-packages (from requests>=2.19.0->tensorflow-datasets) (2.0.7)\n",
      "Requirement already satisfied: certifi>=2017.4.17 in /Users/perper/miniconda3/envs/equinoxvae/lib/python3.10/site-packages (from requests>=2.19.0->tensorflow-datasets) (2023.7.22)\n",
      "Requirement already satisfied: six in /Users/perper/miniconda3/envs/equinoxvae/lib/python3.10/site-packages (from promise->tensorflow-datasets) (1.16.0)\n",
      "Requirement already satisfied: googleapis-common-protos<2,>=1.52.0 in /Users/perper/miniconda3/envs/equinoxvae/lib/python3.10/site-packages (from tensorflow-metadata->tensorflow-datasets) (1.61.0)\n",
      "Note: you may need to restart the kernel to use updated packages.\n"
     ]
    }
   ],
   "source": [
    "pip install tensorflow-datasets"
   ]
  },
  {
   "cell_type": "code",
   "execution_count": 91,
   "metadata": {},
   "outputs": [
    {
     "name": "stdout",
     "output_type": "stream",
     "text": [
      "Requirement already satisfied: tensorflow in /Users/perper/miniconda3/envs/equinoxvae/lib/python3.10/site-packages (2.14.0)\n",
      "Requirement already satisfied: tensorflow-macos==2.14.0 in /Users/perper/miniconda3/envs/equinoxvae/lib/python3.10/site-packages (from tensorflow) (2.14.0)\n",
      "Requirement already satisfied: absl-py>=1.0.0 in /Users/perper/miniconda3/envs/equinoxvae/lib/python3.10/site-packages (from tensorflow-macos==2.14.0->tensorflow) (1.4.0)\n",
      "Requirement already satisfied: astunparse>=1.6.0 in /Users/perper/miniconda3/envs/equinoxvae/lib/python3.10/site-packages (from tensorflow-macos==2.14.0->tensorflow) (1.6.3)\n",
      "Requirement already satisfied: flatbuffers>=23.5.26 in /Users/perper/miniconda3/envs/equinoxvae/lib/python3.10/site-packages (from tensorflow-macos==2.14.0->tensorflow) (23.5.26)\n",
      "Requirement already satisfied: gast!=0.5.0,!=0.5.1,!=0.5.2,>=0.2.1 in /Users/perper/miniconda3/envs/equinoxvae/lib/python3.10/site-packages (from tensorflow-macos==2.14.0->tensorflow) (0.5.4)\n",
      "Requirement already satisfied: google-pasta>=0.1.1 in /Users/perper/miniconda3/envs/equinoxvae/lib/python3.10/site-packages (from tensorflow-macos==2.14.0->tensorflow) (0.2.0)\n",
      "Requirement already satisfied: h5py>=2.9.0 in /Users/perper/miniconda3/envs/equinoxvae/lib/python3.10/site-packages (from tensorflow-macos==2.14.0->tensorflow) (3.10.0)\n",
      "Requirement already satisfied: libclang>=13.0.0 in /Users/perper/miniconda3/envs/equinoxvae/lib/python3.10/site-packages (from tensorflow-macos==2.14.0->tensorflow) (16.0.6)\n",
      "Requirement already satisfied: ml-dtypes==0.2.0 in /Users/perper/miniconda3/envs/equinoxvae/lib/python3.10/site-packages (from tensorflow-macos==2.14.0->tensorflow) (0.2.0)\n",
      "Requirement already satisfied: numpy>=1.23.5 in /Users/perper/miniconda3/envs/equinoxvae/lib/python3.10/site-packages (from tensorflow-macos==2.14.0->tensorflow) (1.26.1)\n",
      "Requirement already satisfied: opt-einsum>=2.3.2 in /Users/perper/miniconda3/envs/equinoxvae/lib/python3.10/site-packages (from tensorflow-macos==2.14.0->tensorflow) (3.3.0)\n",
      "Requirement already satisfied: packaging in /Users/perper/miniconda3/envs/equinoxvae/lib/python3.10/site-packages (from tensorflow-macos==2.14.0->tensorflow) (23.2)\n",
      "Requirement already satisfied: protobuf!=4.21.0,!=4.21.1,!=4.21.2,!=4.21.3,!=4.21.4,!=4.21.5,<5.0.0dev,>=3.20.3 in /Users/perper/miniconda3/envs/equinoxvae/lib/python3.10/site-packages (from tensorflow-macos==2.14.0->tensorflow) (3.20.3)\n",
      "Requirement already satisfied: setuptools in /Users/perper/miniconda3/envs/equinoxvae/lib/python3.10/site-packages (from tensorflow-macos==2.14.0->tensorflow) (68.2.2)\n",
      "Requirement already satisfied: six>=1.12.0 in /Users/perper/miniconda3/envs/equinoxvae/lib/python3.10/site-packages (from tensorflow-macos==2.14.0->tensorflow) (1.16.0)\n",
      "Requirement already satisfied: termcolor>=1.1.0 in /Users/perper/miniconda3/envs/equinoxvae/lib/python3.10/site-packages (from tensorflow-macos==2.14.0->tensorflow) (2.3.0)\n",
      "Requirement already satisfied: typing-extensions>=3.6.6 in /Users/perper/miniconda3/envs/equinoxvae/lib/python3.10/site-packages (from tensorflow-macos==2.14.0->tensorflow) (4.8.0)\n",
      "Requirement already satisfied: wrapt<1.15,>=1.11.0 in /Users/perper/miniconda3/envs/equinoxvae/lib/python3.10/site-packages (from tensorflow-macos==2.14.0->tensorflow) (1.14.1)\n",
      "Requirement already satisfied: tensorflow-io-gcs-filesystem>=0.23.1 in /Users/perper/miniconda3/envs/equinoxvae/lib/python3.10/site-packages (from tensorflow-macos==2.14.0->tensorflow) (0.34.0)\n",
      "Requirement already satisfied: grpcio<2.0,>=1.24.3 in /Users/perper/miniconda3/envs/equinoxvae/lib/python3.10/site-packages (from tensorflow-macos==2.14.0->tensorflow) (1.59.2)\n",
      "Requirement already satisfied: tensorboard<2.15,>=2.14 in /Users/perper/miniconda3/envs/equinoxvae/lib/python3.10/site-packages (from tensorflow-macos==2.14.0->tensorflow) (2.14.1)\n",
      "Requirement already satisfied: tensorflow-estimator<2.15,>=2.14.0 in /Users/perper/miniconda3/envs/equinoxvae/lib/python3.10/site-packages (from tensorflow-macos==2.14.0->tensorflow) (2.14.0)\n",
      "Requirement already satisfied: keras<2.15,>=2.14.0 in /Users/perper/miniconda3/envs/equinoxvae/lib/python3.10/site-packages (from tensorflow-macos==2.14.0->tensorflow) (2.14.0)\n",
      "Requirement already satisfied: wheel<1.0,>=0.23.0 in /Users/perper/miniconda3/envs/equinoxvae/lib/python3.10/site-packages (from astunparse>=1.6.0->tensorflow-macos==2.14.0->tensorflow) (0.41.3)\n",
      "Requirement already satisfied: google-auth<3,>=1.6.3 in /Users/perper/miniconda3/envs/equinoxvae/lib/python3.10/site-packages (from tensorboard<2.15,>=2.14->tensorflow-macos==2.14.0->tensorflow) (2.23.4)\n",
      "Requirement already satisfied: google-auth-oauthlib<1.1,>=0.5 in /Users/perper/miniconda3/envs/equinoxvae/lib/python3.10/site-packages (from tensorboard<2.15,>=2.14->tensorflow-macos==2.14.0->tensorflow) (1.0.0)\n",
      "Requirement already satisfied: markdown>=2.6.8 in /Users/perper/miniconda3/envs/equinoxvae/lib/python3.10/site-packages (from tensorboard<2.15,>=2.14->tensorflow-macos==2.14.0->tensorflow) (3.5.1)\n",
      "Requirement already satisfied: requests<3,>=2.21.0 in /Users/perper/miniconda3/envs/equinoxvae/lib/python3.10/site-packages (from tensorboard<2.15,>=2.14->tensorflow-macos==2.14.0->tensorflow) (2.31.0)\n",
      "Requirement already satisfied: tensorboard-data-server<0.8.0,>=0.7.0 in /Users/perper/miniconda3/envs/equinoxvae/lib/python3.10/site-packages (from tensorboard<2.15,>=2.14->tensorflow-macos==2.14.0->tensorflow) (0.7.2)\n",
      "Requirement already satisfied: werkzeug>=1.0.1 in /Users/perper/miniconda3/envs/equinoxvae/lib/python3.10/site-packages (from tensorboard<2.15,>=2.14->tensorflow-macos==2.14.0->tensorflow) (3.0.1)\n",
      "Requirement already satisfied: cachetools<6.0,>=2.0.0 in /Users/perper/miniconda3/envs/equinoxvae/lib/python3.10/site-packages (from google-auth<3,>=1.6.3->tensorboard<2.15,>=2.14->tensorflow-macos==2.14.0->tensorflow) (5.3.2)\n",
      "Requirement already satisfied: pyasn1-modules>=0.2.1 in /Users/perper/miniconda3/envs/equinoxvae/lib/python3.10/site-packages (from google-auth<3,>=1.6.3->tensorboard<2.15,>=2.14->tensorflow-macos==2.14.0->tensorflow) (0.3.0)\n",
      "Requirement already satisfied: rsa<5,>=3.1.4 in /Users/perper/miniconda3/envs/equinoxvae/lib/python3.10/site-packages (from google-auth<3,>=1.6.3->tensorboard<2.15,>=2.14->tensorflow-macos==2.14.0->tensorflow) (4.9)\n",
      "Requirement already satisfied: requests-oauthlib>=0.7.0 in /Users/perper/miniconda3/envs/equinoxvae/lib/python3.10/site-packages (from google-auth-oauthlib<1.1,>=0.5->tensorboard<2.15,>=2.14->tensorflow-macos==2.14.0->tensorflow) (1.3.1)\n",
      "Requirement already satisfied: charset-normalizer<4,>=2 in /Users/perper/miniconda3/envs/equinoxvae/lib/python3.10/site-packages (from requests<3,>=2.21.0->tensorboard<2.15,>=2.14->tensorflow-macos==2.14.0->tensorflow) (3.3.2)\n",
      "Requirement already satisfied: idna<4,>=2.5 in /Users/perper/miniconda3/envs/equinoxvae/lib/python3.10/site-packages (from requests<3,>=2.21.0->tensorboard<2.15,>=2.14->tensorflow-macos==2.14.0->tensorflow) (3.4)\n",
      "Requirement already satisfied: urllib3<3,>=1.21.1 in /Users/perper/miniconda3/envs/equinoxvae/lib/python3.10/site-packages (from requests<3,>=2.21.0->tensorboard<2.15,>=2.14->tensorflow-macos==2.14.0->tensorflow) (2.0.7)\n",
      "Requirement already satisfied: certifi>=2017.4.17 in /Users/perper/miniconda3/envs/equinoxvae/lib/python3.10/site-packages (from requests<3,>=2.21.0->tensorboard<2.15,>=2.14->tensorflow-macos==2.14.0->tensorflow) (2023.7.22)\n",
      "Requirement already satisfied: MarkupSafe>=2.1.1 in /Users/perper/miniconda3/envs/equinoxvae/lib/python3.10/site-packages (from werkzeug>=1.0.1->tensorboard<2.15,>=2.14->tensorflow-macos==2.14.0->tensorflow) (2.1.3)\n",
      "Requirement already satisfied: pyasn1<0.6.0,>=0.4.6 in /Users/perper/miniconda3/envs/equinoxvae/lib/python3.10/site-packages (from pyasn1-modules>=0.2.1->google-auth<3,>=1.6.3->tensorboard<2.15,>=2.14->tensorflow-macos==2.14.0->tensorflow) (0.5.0)\n",
      "Requirement already satisfied: oauthlib>=3.0.0 in /Users/perper/miniconda3/envs/equinoxvae/lib/python3.10/site-packages (from requests-oauthlib>=0.7.0->google-auth-oauthlib<1.1,>=0.5->tensorboard<2.15,>=2.14->tensorflow-macos==2.14.0->tensorflow) (3.2.2)\n",
      "Note: you may need to restart the kernel to use updated packages.\n"
     ]
    }
   ],
   "source": [
    "pip install tensorflow"
   ]
  },
  {
   "cell_type": "code",
   "execution_count": 92,
   "metadata": {},
   "outputs": [],
   "source": [
    "import tensorflow_datasets as tfds"
   ]
  },
  {
   "cell_type": "code",
   "execution_count": 93,
   "metadata": {},
   "outputs": [],
   "source": [
    "from typing import Iterator, Mapping, NamedTuple, Sequence, Tuple\n",
    "import numpy as np"
   ]
  },
  {
   "cell_type": "code",
   "execution_count": 94,
   "metadata": {},
   "outputs": [],
   "source": [
    "PRNGKey = jnp.ndarray\n",
    "Batch = Mapping[str, np.ndarray]\n",
    "batch_size = BATCH_SIZE\n",
    "random_seed = 42\n",
    "\n",
    "MNIST_IMAGE_SHAPE: Sequence[int] = (28, 28, 1)\n",
    "\n",
    "\n",
    "def load_dataset(split: str, batch_size: int) -> Iterator[Batch]:\n",
    "    ds = tfds.load(\n",
    "        \"binarized_mnist\",\n",
    "        split=split,\n",
    "        shuffle_files=True,\n",
    "        read_config=tfds.ReadConfig(shuffle_seed=random_seed),\n",
    "    )\n",
    "    ds = ds.shuffle(buffer_size=10 * batch_size, seed=random_seed)\n",
    "    ds = ds.batch(batch_size)\n",
    "    ds = ds.prefetch(buffer_size=5)\n",
    "    ds = ds.repeat()\n",
    "    return iter(tfds.as_numpy(ds))\n"
   ]
  },
  {
   "cell_type": "code",
   "execution_count": 95,
   "metadata": {},
   "outputs": [
    {
     "name": "stderr",
     "output_type": "stream",
     "text": [
      "2023-11-12 00:45:22.949017: W tensorflow/core/kernels/data/cache_dataset_ops.cc:854] The calling iterator did not fully read the dataset being cached. In order to avoid unexpected truncation of the dataset, the partially cached contents of the dataset  will be discarded. This can happen if you have an input pipeline similar to `dataset.cache().take(k).repeat()`. You should use `dataset.take(k).cache().repeat()` instead.\n"
     ]
    }
   ],
   "source": [
    "batch_size = 32\n",
    "train_dataloader = load_dataset(tfds.Split.TRAIN, batch_size)\n",
    "test_dataloader = load_dataset(tfds.Split.TEST, batch_size)"
   ]
  },
  {
   "cell_type": "code",
   "execution_count": 96,
   "metadata": {},
   "outputs": [
    {
     "data": {
      "image/png": "[encoded data removed]",
      "text/plain": [
       "<Figure size 640x480 with 1 Axes>"
      ]
     },
     "metadata": {},
     "output_type": "display_data"
    }
   ],
   "source": [
    "batch = next(train_dataloader)\n",
    "\n",
    "# Take the first data point from the batch\n",
    "data_point = batch['image'][0]\n",
    "import matplotlib.pyplot as plt\n",
    "plt.imshow(data_point.squeeze(), cmap='gray')  # Use 'gray' for grayscale images\n",
    "plt.title('Single Data Point')\n",
    "plt.axis('off')\n",
    "plt.show()"
   ]
  },
  {
   "cell_type": "code",
   "execution_count": 97,
   "metadata": {},
   "outputs": [],
   "source": [
    "#from data import SpokenMNISTMultimodalDataset"
   ]
  },
  {
   "cell_type": "code",
   "execution_count": 98,
   "metadata": {},
   "outputs": [],
   "source": [
    "# train_dataloader = DataLoader(\n",
    "#     SpokenMNISTMultimodalDataset(split=\"train\"),\n",
    "#     batch_size=BATCH_SIZE,\n",
    "#     shuffle=True,\n",
    "#     num_workers=1,\n",
    "# )\n",
    "# test_dataloader = DataLoader(\n",
    "#     SpokenMNISTMultimodalDataset(split=\"test\"),\n",
    "#     batch_size=BATCH_SIZE,\n",
    "#     shuffle=True,\n",
    "#     num_workers=1,\n",
    "# )"
   ]
  },
  {
   "cell_type": "code",
   "execution_count": 99,
   "metadata": {},
   "outputs": [
    {
     "name": "stdout",
     "output_type": "stream",
     "text": [
      "Requirement already satisfied: jax==0.4.13 in /Users/perper/miniconda3/envs/equinoxvae/lib/python3.10/site-packages (0.4.13)\n",
      "Requirement already satisfied: ml-dtypes>=0.1.0 in /Users/perper/miniconda3/envs/equinoxvae/lib/python3.10/site-packages (from jax==0.4.13) (0.2.0)\n",
      "Requirement already satisfied: numpy>=1.21 in /Users/perper/miniconda3/envs/equinoxvae/lib/python3.10/site-packages (from jax==0.4.13) (1.26.1)\n",
      "Requirement already satisfied: opt-einsum in /Users/perper/miniconda3/envs/equinoxvae/lib/python3.10/site-packages (from jax==0.4.13) (3.3.0)\n",
      "Requirement already satisfied: scipy>=1.7 in /Users/perper/miniconda3/envs/equinoxvae/lib/python3.10/site-packages (from jax==0.4.13) (1.11.3)\n",
      "Note: you may need to restart the kernel to use updated packages.\n"
     ]
    }
   ],
   "source": [
    "pip install jax==0.4.13\n"
   ]
  },
  {
   "cell_type": "code",
   "execution_count": 100,
   "metadata": {},
   "outputs": [],
   "source": [
    "import jax\n",
    "#print(jax.__version__)"
   ]
  },
  {
   "cell_type": "code",
   "execution_count": 101,
   "metadata": {},
   "outputs": [
    {
     "name": "stdout",
     "output_type": "stream",
     "text": [
      "0.4.20\n"
     ]
    }
   ],
   "source": [
    "print(jax.__version__)"
   ]
  },
  {
   "cell_type": "code",
   "execution_count": 102,
   "metadata": {},
   "outputs": [
    {
     "name": "stdout",
     "output_type": "stream",
     "text": [
      "Unexpected exception formatting exception. Falling back to standard exception\n"
     ]
    },
    {
     "name": "stderr",
     "output_type": "stream",
     "text": [
      "Traceback (most recent call last):\n",
      "  File \"/Users/perper/miniconda3/envs/equinoxvae/lib/python3.10/site-packages/IPython/core/interactiveshell.py\", line 3548, in run_code\n",
      "    exec(code_obj, self.user_global_ns, self.user_ns)\n",
      "  File \"/var/folders/zn/bs_918_s1_n79q1pywwjcw_w0000gn/T/ipykernel_69305/2487213651.py\", line 3, in <module>\n",
      "    key = jax.random.PRNGKey(0)\n",
      "  File \"/Users/perper/miniconda3/envs/equinoxvae/lib/python3.10/site-packages/jax/_src/random.py\", line 224, in PRNGKey\n",
      "    if key.ndim:\n",
      "  File \"/Users/perper/miniconda3/envs/equinoxvae/lib/python3.10/site-packages/jax/_src/random.py\", line 178, in _key\n",
      "  File \"/Users/perper/miniconda3/envs/equinoxvae/lib/python3.10/site-packages/jax/_src/random.py\", line 155, in resolve_prng_impl\n",
      "    if isinstance(seed, prng.PRNGKeyArray):\n",
      "  File \"/Users/perper/miniconda3/envs/equinoxvae/lib/python3.10/site-packages/jax/_src/random.py\", line 121, in default_prng_impl\n",
      "AttributeError: '_StateContextManager' object has no attribute 'value'\n",
      "\n",
      "During handling of the above exception, another exception occurred:\n",
      "\n",
      "Traceback (most recent call last):\n",
      "  File \"/Users/perper/miniconda3/envs/equinoxvae/lib/python3.10/site-packages/IPython/core/interactiveshell.py\", line 2142, in showtraceback\n",
      "    stb = self.InteractiveTB.structured_traceback(\n",
      "  File \"/Users/perper/miniconda3/envs/equinoxvae/lib/python3.10/site-packages/IPython/core/ultratb.py\", line 1435, in structured_traceback\n",
      "    return FormattedTB.structured_traceback(\n",
      "  File \"/Users/perper/miniconda3/envs/equinoxvae/lib/python3.10/site-packages/IPython/core/ultratb.py\", line 1326, in structured_traceback\n",
      "    return VerboseTB.structured_traceback(\n",
      "  File \"/Users/perper/miniconda3/envs/equinoxvae/lib/python3.10/site-packages/IPython/core/ultratb.py\", line 1173, in structured_traceback\n",
      "    formatted_exception = self.format_exception_as_a_whole(etype, evalue, etb, number_of_lines_of_context,\n",
      "  File \"/Users/perper/miniconda3/envs/equinoxvae/lib/python3.10/site-packages/IPython/core/ultratb.py\", line 1088, in format_exception_as_a_whole\n",
      "    frames.append(self.format_record(record))\n",
      "  File \"/Users/perper/miniconda3/envs/equinoxvae/lib/python3.10/site-packages/IPython/core/ultratb.py\", line 970, in format_record\n",
      "    frame_info.lines, Colors, self.has_colors, lvals\n",
      "  File \"/Users/perper/miniconda3/envs/equinoxvae/lib/python3.10/site-packages/IPython/core/ultratb.py\", line 792, in lines\n",
      "    return self._sd.lines\n",
      "  File \"/Users/perper/miniconda3/envs/equinoxvae/lib/python3.10/site-packages/stack_data/utils.py\", line 144, in cached_property_wrapper\n",
      "    value = obj.__dict__[self.func.__name__] = self.func(obj)\n",
      "  File \"/Users/perper/miniconda3/envs/equinoxvae/lib/python3.10/site-packages/stack_data/core.py\", line 734, in lines\n",
      "    pieces = self.included_pieces\n",
      "  File \"/Users/perper/miniconda3/envs/equinoxvae/lib/python3.10/site-packages/stack_data/utils.py\", line 144, in cached_property_wrapper\n",
      "    value = obj.__dict__[self.func.__name__] = self.func(obj)\n",
      "  File \"/Users/perper/miniconda3/envs/equinoxvae/lib/python3.10/site-packages/stack_data/core.py\", line 681, in included_pieces\n",
      "    pos = scope_pieces.index(self.executing_piece)\n",
      "  File \"/Users/perper/miniconda3/envs/equinoxvae/lib/python3.10/site-packages/stack_data/utils.py\", line 144, in cached_property_wrapper\n",
      "    value = obj.__dict__[self.func.__name__] = self.func(obj)\n",
      "  File \"/Users/perper/miniconda3/envs/equinoxvae/lib/python3.10/site-packages/stack_data/core.py\", line 660, in executing_piece\n",
      "    return only(\n",
      "  File \"/Users/perper/miniconda3/envs/equinoxvae/lib/python3.10/site-packages/executing/executing.py\", line 116, in only\n",
      "    raise NotOneValueFound('Expected one value, found 0')\n",
      "executing.executing.NotOneValueFound: Expected one value, found 0\n"
     ]
    }
   ],
   "source": [
    "from model.encoder import ImageEncoder\n",
    "\n",
    "key = jax.random.PRNGKey(0)\n",
    "encoder = ImageEncoder(in_channels=1, out_channels=2, key=key)\n",
    "encoder_fn = jax.vmap(encoder)\n",
    "#image_input_example = jax.random.normal(key, (32, 32))\n",
    "#encoder_output = encoder(image_input_example)\n",
    "#encoder_output\n",
    "batch = batch[..., 0]\n",
    "#targets = pad_fn(batch)\n",
    "#encoder_fn(batch)\n",
    "batch.shape"
   ]
  },
  {
   "cell_type": "code",
   "execution_count": 103,
   "metadata": {},
   "outputs": [
    {
     "name": "stdout",
     "output_type": "stream",
     "text": [
      "Unexpected exception formatting exception. Falling back to standard exception\n"
     ]
    },
    {
     "name": "stderr",
     "output_type": "stream",
     "text": [
      "Traceback (most recent call last):\n",
      "  File \"/Users/perper/miniconda3/envs/equinoxvae/lib/python3.10/site-packages/IPython/core/interactiveshell.py\", line 3548, in run_code\n",
      "    exec(code_obj, self.user_global_ns, self.user_ns)\n",
      "  File \"/var/folders/zn/bs_918_s1_n79q1pywwjcw_w0000gn/T/ipykernel_69305/3661057274.py\", line 1, in <module>\n",
      "    key = jax.random.PRNGKey(0)\n",
      "  File \"/Users/perper/miniconda3/envs/equinoxvae/lib/python3.10/site-packages/jax/_src/random.py\", line 224, in PRNGKey\n",
      "    if key.ndim:\n",
      "  File \"/Users/perper/miniconda3/envs/equinoxvae/lib/python3.10/site-packages/jax/_src/random.py\", line 178, in _key\n",
      "  File \"/Users/perper/miniconda3/envs/equinoxvae/lib/python3.10/site-packages/jax/_src/random.py\", line 155, in resolve_prng_impl\n",
      "    if isinstance(seed, prng.PRNGKeyArray):\n",
      "  File \"/Users/perper/miniconda3/envs/equinoxvae/lib/python3.10/site-packages/jax/_src/random.py\", line 121, in default_prng_impl\n",
      "AttributeError: '_StateContextManager' object has no attribute 'value'\n",
      "\n",
      "During handling of the above exception, another exception occurred:\n",
      "\n",
      "Traceback (most recent call last):\n",
      "  File \"/Users/perper/miniconda3/envs/equinoxvae/lib/python3.10/site-packages/IPython/core/interactiveshell.py\", line 2142, in showtraceback\n",
      "    stb = self.InteractiveTB.structured_traceback(\n",
      "  File \"/Users/perper/miniconda3/envs/equinoxvae/lib/python3.10/site-packages/IPython/core/ultratb.py\", line 1435, in structured_traceback\n",
      "    return FormattedTB.structured_traceback(\n",
      "  File \"/Users/perper/miniconda3/envs/equinoxvae/lib/python3.10/site-packages/IPython/core/ultratb.py\", line 1326, in structured_traceback\n",
      "    return VerboseTB.structured_traceback(\n",
      "  File \"/Users/perper/miniconda3/envs/equinoxvae/lib/python3.10/site-packages/IPython/core/ultratb.py\", line 1173, in structured_traceback\n",
      "    formatted_exception = self.format_exception_as_a_whole(etype, evalue, etb, number_of_lines_of_context,\n",
      "  File \"/Users/perper/miniconda3/envs/equinoxvae/lib/python3.10/site-packages/IPython/core/ultratb.py\", line 1088, in format_exception_as_a_whole\n",
      "    frames.append(self.format_record(record))\n",
      "  File \"/Users/perper/miniconda3/envs/equinoxvae/lib/python3.10/site-packages/IPython/core/ultratb.py\", line 970, in format_record\n",
      "    frame_info.lines, Colors, self.has_colors, lvals\n",
      "  File \"/Users/perper/miniconda3/envs/equinoxvae/lib/python3.10/site-packages/IPython/core/ultratb.py\", line 792, in lines\n",
      "    return self._sd.lines\n",
      "  File \"/Users/perper/miniconda3/envs/equinoxvae/lib/python3.10/site-packages/stack_data/utils.py\", line 144, in cached_property_wrapper\n",
      "    value = obj.__dict__[self.func.__name__] = self.func(obj)\n",
      "  File \"/Users/perper/miniconda3/envs/equinoxvae/lib/python3.10/site-packages/stack_data/core.py\", line 734, in lines\n",
      "    pieces = self.included_pieces\n",
      "  File \"/Users/perper/miniconda3/envs/equinoxvae/lib/python3.10/site-packages/stack_data/utils.py\", line 144, in cached_property_wrapper\n",
      "    value = obj.__dict__[self.func.__name__] = self.func(obj)\n",
      "  File \"/Users/perper/miniconda3/envs/equinoxvae/lib/python3.10/site-packages/stack_data/core.py\", line 681, in included_pieces\n",
      "    pos = scope_pieces.index(self.executing_piece)\n",
      "  File \"/Users/perper/miniconda3/envs/equinoxvae/lib/python3.10/site-packages/stack_data/utils.py\", line 144, in cached_property_wrapper\n",
      "    value = obj.__dict__[self.func.__name__] = self.func(obj)\n",
      "  File \"/Users/perper/miniconda3/envs/equinoxvae/lib/python3.10/site-packages/stack_data/core.py\", line 660, in executing_piece\n",
      "    return only(\n",
      "  File \"/Users/perper/miniconda3/envs/equinoxvae/lib/python3.10/site-packages/executing/executing.py\", line 116, in only\n",
      "    raise NotOneValueFound('Expected one value, found 0')\n",
      "executing.executing.NotOneValueFound: Expected one value, found 0\n"
     ]
    }
   ],
   "source": [
    "key = jax.random.PRNGKey(0)\n",
    "\n",
    "model_key, key = jax.random.split(key)\n",
    "model = ImageVAE(in_channels=1, n_latents=2, key=model_key)\n",
    "\n",
    "optimizer = optax.adam(1e-3)\n",
    "opt_state = optimizer.init(eqx.filter(model, eqx.is_array))\n",
    "\n",
    "pad_fn = jax.vmap(partial(jnp.pad, pad_width=2))\n",
    "\n",
    "\n",
    "@eqx.filter_value_and_grad(has_aux=True)\n",
    "def grad_and_loss(model: eqx.Module, batch: jnp.array, key: jax.random.PRNGKey):\n",
    "    model_fn = jax.vmap(model)\n",
    "    loss_fn = jax.vmap(get_evidence_lower_bound)\n",
    "    keys = jax.random.split(key, BATCH_SIZE)\n",
    "    model_output: ImageVAEOutput = model_fn(batch, key=keys)\n",
    "    loss_output: ELBOLossOutput = loss_fn(batch, model_output)\n",
    "    return jnp.mean(loss_output[\"loss\"]), jax.tree_map(jnp.mean, loss_output)\n",
    "\n",
    "\n",
    "@eqx.filter_jit\n",
    "def make_step(\n",
    "    model: eqx.Module,\n",
    "    opt_state: PyTree,\n",
    "    batch: jnp.array,\n",
    "    *,\n",
    "    key: jax.random.PRNGKey,\n",
    "):\n",
    "    (loss, aux), grads = grad_and_loss(model, batch, key)\n",
    "    updates, update_opt_state = optimizer.update(grads, opt_state)\n",
    "    update_model = eqx.apply_updates(model, updates)\n",
    "    return (loss, aux), update_model, update_opt_state\n",
    "\n",
    "\n",
    "step = 0\n",
    "MAX_EPOCHS = 10\n",
    "train_metrics = None\n",
    "for epoch in range(MAX_EPOCHS):\n",
    "    for batch in train_dataloader:\n",
    "        batch = jnp.asarray(batch[\"image\"]).astype(jnp.float32)\n",
    "        batch =  batch[..., 0]\n",
    "        targets = pad_fn(batch)\n",
    "        key, binarized_key = jax.random.split(key)\n",
    "        targets = (\n",
    "            dsx.Bernoulli(probs=targets).sample(seed=binarized_key).astype(jnp.float32)\n",
    "        )\n",
    "\n",
    "        #targets = targets[..., 0]\n",
    "        #print(targets.shape)\n",
    "        key, step_key = jax.random.split(key)\n",
    "        (loss, aux), model, opt_state = make_step(\n",
    "            model, opt_state, targets, key=step_key\n",
    "        )\n",
    "\n",
    "        step += 1\n",
    "        if step % 500 == 0:\n",
    "            if train_metrics is None:\n",
    "                train_metrics = {k: jnp.array([v]) for k, v in aux.items()}\n",
    "                train_metrics[\"step\"] = jnp.array([step])\n",
    "            else:\n",
    "                for k, v in aux.items():\n",
    "                    train_metrics[k] = jnp.concatenate(\n",
    "                        [train_metrics[k], jnp.array([v])]\n",
    "                    )\n",
    "                train_metrics[\"step\"] = jnp.concatenate(\n",
    "                    [train_metrics[\"step\"], jnp.array([step])]\n",
    "                )\n",
    "\n",
    "            log_str = f\"step/epoch: {step}/{epoch}\"\n",
    "            for k, v in aux.items():\n",
    "                log_str += f\"\\t {k}: {v:.3f}\"\n",
    "            print(log_str)\n",
    "\n",
    "visualize_reconstructions(model, targets)\n",
    "\n",
    "K = len(train_metrics) - 1\n",
    "plt.figure(figsize=(4 * K, 4))\n",
    "for i, (k, v) in enumerate(train_metrics.items()):\n",
    "    if k == \"step\":\n",
    "        continue\n",
    "    plt.subplot(1, K, i + 1)\n",
    "    plt.title(k)\n",
    "    plt.plot(train_metrics[\"step\"], v)\n",
    "    plt.xlabel(\"Optimization step\")"
   ]
  },
  {
   "cell_type": "code",
   "execution_count": null,
   "metadata": {},
   "outputs": [],
   "source": []
  },
  {
   "cell_type": "code",
   "execution_count": null,
   "metadata": {},
   "outputs": [],
   "source": []
  }
 ],
 "metadata": {
  "kernelspec": {
   "display_name": "Python 3 (ipykernel)",
   "language": "python",
   "name": "python3"
  },
  "language_info": {
   "codemirror_mode": {
    "name": "ipython",
    "version": 3
   },
   "file_extension": ".py",
   "mimetype": "text/x-python",
   "name": "python",
   "nbconvert_exporter": "python",
   "pygments_lexer": "ipython3",
   "version": "3.10.0"
  }
 },
 "nbformat": 4,
 "nbformat_minor": 4
}
